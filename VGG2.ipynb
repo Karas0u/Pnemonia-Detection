{
 "cells": [
  {
   "cell_type": "code",
   "execution_count": 1,
   "id": "f0238eb1-88b0-4bd5-a8c3-7af362bd5e79",
   "metadata": {},
   "outputs": [],
   "source": [
    "import tensorflow as tf\n",
    "from tensorflow.keras.applications import VGG19\n",
    "from tensorflow.keras.preprocessing.image import ImageDataGenerator"
   ]
  },
  {
   "cell_type": "code",
   "execution_count": 2,
   "id": "0716f67d-0d12-424f-9135-18bb62844dd2",
   "metadata": {},
   "outputs": [],
   "source": [
    "# Define the input shape for the VGG19 model\n",
    "input_shape = (224, 224, 3)\n",
    "\n",
    "# Create an instance of the VGG19 model with pre-trained weights\n",
    "base_model = VGG19(weights='imagenet', include_top=False, input_shape=input_shape)"
   ]
  },
  {
   "cell_type": "code",
   "execution_count": 3,
   "id": "2cb008e4-3db7-423e-9cfb-ee8614ee7394",
   "metadata": {},
   "outputs": [],
   "source": [
    "# Freeze the pre-trained layers so they are not trainable\n",
    "for layer in base_model.layers:\n",
    "    layer.trainable = False"
   ]
  },
  {
   "cell_type": "code",
   "execution_count": 4,
   "id": "e2257d8a-cf11-43ac-8168-eb5923cbd433",
   "metadata": {},
   "outputs": [],
   "source": [
    "# Create a new model on top of the pre-trained base model\n",
    "model = tf.keras.Sequential([\n",
    "    base_model,\n",
    "    tf.keras.layers.Flatten(),\n",
    "    tf.keras.layers.Dense(256, activation='relu'),\n",
    "    tf.keras.layers.Dense(2, activation='softmax')  # Set the number of output classes\n",
    "])"
   ]
  },
  {
   "cell_type": "code",
   "execution_count": 5,
   "id": "f2774b47-cb7c-4778-b285-c9e70cd814f1",
   "metadata": {},
   "outputs": [],
   "source": [
    "# Compile the model\n",
    "model.compile(optimizer='adam',\n",
    "              loss='categorical_crossentropy',\n",
    "              metrics=['accuracy'])"
   ]
  },
  {
   "cell_type": "code",
   "execution_count": 6,
   "id": "c951aac8-3669-4858-b168-029eb377b155",
   "metadata": {},
   "outputs": [],
   "source": [
    "# Preprocess the data and create data generators\n",
    "datagen = ImageDataGenerator(rescale=1./255)"
   ]
  },
  {
   "cell_type": "code",
   "execution_count": 7,
   "id": "d4021d76-03a2-4930-a7be-b7e6201bcd6d",
   "metadata": {},
   "outputs": [],
   "source": [
    "random_state_global = 42\n",
    "epoch_val = 1000\n",
    "batch_size_val = 32\n",
    "threshold_val = 1e-4\n",
    "IMG_SIZE = (224, 224)\n",
    "normalization_layer = tf.keras.layers.Rescaling(1./255)\n",
    "\n",
    "# Define the paths for train and test data\n",
    "train_dir =  'chest_xray/chest_xray/train'\n",
    "test_dir =  'chest_xray/chest_xray/test'\n",
    "val_dir =  'chest_xray/chest_xray/val'\n",
    "\n",
    "# Preprocess the data\n",
    "train_datagen = ImageDataGenerator(rescale=1./255)\n",
    "test_datagen = ImageDataGenerator(rescale=1./255)\n",
    "val_datagen = ImageDataGenerator(rescale=1./255)"
   ]
  },
  {
   "cell_type": "code",
   "execution_count": 8,
   "id": "e32c5065-0fd2-43f3-b26f-6685fa6b1376",
   "metadata": {},
   "outputs": [
    {
     "name": "stdout",
     "output_type": "stream",
     "text": [
      "Found 5216 files belonging to 2 classes.\n",
      "<_MapDataset element_spec=(TensorSpec(shape=(None, 224, 224, 3), dtype=tf.float32, name=None), TensorSpec(shape=(None, 2), dtype=tf.float32, name=None))>\n",
      "Found 624 files belonging to 2 classes.\n",
      "Found 16 files belonging to 2 classes.\n",
      "\n",
      "class names are ['NORMAL', 'PNEUMONIA']\n"
     ]
    }
   ],
   "source": [
    "# Split the training data into train and validation sets\n",
    "train_generator = tf.keras.utils.image_dataset_from_directory(train_dir,\n",
    "                                                        label_mode=\"categorical\",\n",
    "                                                        image_size=IMG_SIZE,\n",
    "                                                        seed=random_state_global,\n",
    "                                                        batch_size = batch_size_val,\n",
    "                                                        shuffle=True)\n",
    "\n",
    "train_ds = train_generator.map(lambda x, y: (normalization_layer(x), y))\n",
    "print(train_ds)\n",
    "\n",
    "test_generator = tf.keras.utils.image_dataset_from_directory(test_dir,\n",
    "                                                        label_mode=\"categorical\",\n",
    "                                                        image_size=IMG_SIZE,\n",
    "                                                        seed=random_state_global,\n",
    "                                                        batch_size = batch_size_val,\n",
    "                                                        shuffle=False) # don't shuffle test data for prediction analysis\n",
    "validation_generator = tf.keras.utils.image_dataset_from_directory(val_dir,\n",
    "                                                        label_mode=\"categorical\",\n",
    "                                                        image_size=IMG_SIZE,\n",
    "                                                        seed=random_state_global,\n",
    "                                                        batch_size = batch_size_val,\n",
    "                                                        shuffle=False) # don't shuffle valid data for prediction analysis\n",
    "\n",
    "class_names = validation_generator.class_names\n",
    "print(f'\\nclass names are {class_names}')    "
   ]
  },
  {
   "cell_type": "code",
   "execution_count": 9,
   "id": "f11466c5-fcca-4b4b-9ddf-a42a21e9485b",
   "metadata": {},
   "outputs": [
    {
     "name": "stdout",
     "output_type": "stream",
     "text": [
      "Epoch 7: early stopping\n"
     ]
    }
   ],
   "source": [
    "# my callbacks\n",
    "my_callbacks = [\n",
    "            tf.keras.callbacks.EarlyStopping(monitor='loss', patience=1, min_delta=1e-4,mode=\"min\",restore_best_weights=False,verbose=1)]\n",
    "# Train the model\n",
    "history_1 = model.fit(train_ds,\n",
    "                        epochs=epoch_val,\n",
    "                        validation_data=validation_generator,\n",
    "                        callbacks = my_callbacks,\n",
    "                        verbose=0)"
   ]
  },
  {
   "cell_type": "code",
   "execution_count": 10,
   "id": "75021053-7f46-47ad-814a-856d0b5ea611",
   "metadata": {},
   "outputs": [
    {
     "name": "stdout",
     "output_type": "stream",
     "text": [
      "\u001b[1m20/20\u001b[0m \u001b[32m━━━━━━━━━━━━━━━━━━━━\u001b[0m\u001b[37m\u001b[0m \u001b[1m135s\u001b[0m 7s/step - accuracy: 0.7601 - loss: 27.5695\n",
      "Test loss: 22.40785789489746\n",
      "Test accuracy: 0.7772436141967773\n"
     ]
    }
   ],
   "source": [
    "# Evaluate the model on the test set\n",
    "loss, accuracy = model.evaluate(test_generator)\n",
    "print(f\"Test loss: {loss}\")\n",
    "print(f\"Test accuracy: {accuracy}\")"
   ]
  }
 ],
 "metadata": {
  "kernelspec": {
   "display_name": "Python 3 (ipykernel)",
   "language": "python",
   "name": "python3"
  },
  "language_info": {
   "codemirror_mode": {
    "name": "ipython",
    "version": 3
   },
   "file_extension": ".py",
   "mimetype": "text/x-python",
   "name": "python",
   "nbconvert_exporter": "python",
   "pygments_lexer": "ipython3",
   "version": "3.11.7"
  }
 },
 "nbformat": 4,
 "nbformat_minor": 5
}
