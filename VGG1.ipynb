{
 "cells": [
  {
   "cell_type": "code",
   "execution_count": 1,
   "id": "2d9c11c0-dd2a-4fb1-b577-360fc5757950",
   "metadata": {},
   "outputs": [],
   "source": [
    "import tensorflow as tf\n",
    "from tensorflow.keras.applications import VGG19\n",
    "from tensorflow.keras.preprocessing.image import ImageDataGenerator"
   ]
  },
  {
   "cell_type": "code",
   "execution_count": 2,
   "id": "34d23315-f24c-4297-96ee-d12a08ef0b28",
   "metadata": {},
   "outputs": [
    {
     "name": "stdout",
     "output_type": "stream",
     "text": [
      "Downloading data from https://storage.googleapis.com/tensorflow/keras-applications/vgg19/vgg19_weights_tf_dim_ordering_tf_kernels_notop.h5\n",
      "\u001b[1m80134624/80134624\u001b[0m \u001b[32m━━━━━━━━━━━━━━━━━━━━\u001b[0m\u001b[37m\u001b[0m \u001b[1m28s\u001b[0m 0us/step\n"
     ]
    }
   ],
   "source": [
    "# Define the input shape for the VGG19 model\n",
    "input_shape = (224, 224, 3)\n",
    "\n",
    "# Create an instance of the VGG19 model with pre-trained weights\n",
    "base_model = VGG19(weights='imagenet', include_top=False, input_shape=input_shape)"
   ]
  },
  {
   "cell_type": "code",
   "execution_count": 3,
   "id": "b3a2642c-a25b-4f9b-8263-8556e75b6d67",
   "metadata": {},
   "outputs": [],
   "source": [
    "# Freeze the pre-trained layers so they are not trainable\n",
    "for layer in base_model.layers:\n",
    "    layer.trainable = False"
   ]
  },
  {
   "cell_type": "code",
   "execution_count": 4,
   "id": "bb47ccca-7c85-4231-a786-ba1bc5c1f573",
   "metadata": {},
   "outputs": [],
   "source": [
    "model = tf.keras.Sequential([\n",
    "    base_model,\n",
    "    tf.keras.layers.Flatten(),\n",
    "    tf.keras.layers.Dense(256, activation='relu'),\n",
    "    tf.keras.layers.Dense(2, activation='softmax')  # Set the number of output classes\n",
    "])"
   ]
  },
  {
   "cell_type": "code",
   "execution_count": 5,
   "id": "745a20b9-7d49-4996-86b3-826ff62614c2",
   "metadata": {},
   "outputs": [],
   "source": [
    "# Compile the model\n",
    "model.compile(optimizer='adam',\n",
    "              loss='categorical_crossentropy',\n",
    "              metrics=['accuracy'])"
   ]
  },
  {
   "cell_type": "code",
   "execution_count": 6,
   "id": "293fadd0-484c-4f07-b4bf-f367d7e67636",
   "metadata": {},
   "outputs": [],
   "source": [
    "# Preprocess the data and create data generators\n",
    "datagen = ImageDataGenerator(rescale=1./255)"
   ]
  },
  {
   "cell_type": "code",
   "execution_count": 7,
   "id": "44009b86-db0b-4f07-bd57-dca5d985966e",
   "metadata": {},
   "outputs": [],
   "source": [
    "random_state_global = 42\n",
    "epoch_val = 1000\n",
    "batch_size_val = 32\n",
    "threshold_val = 1e-4\n",
    "IMG_SIZE = (224, 224)\n",
    "normalization_layer = tf.keras.layers.Rescaling(1./255)\n",
    "\n",
    "# Define the paths for train and test data\n",
    "train_dir =  'chest_xray/chest_xray/train'\n",
    "test_dir =  'chest_xray/chest_xray/test'\n",
    "val_dir =  'chest_xray/chest_xray/val'\n",
    "\n",
    "# Preprocess the data\n",
    "train_datagen = ImageDataGenerator(rescale=1./255)\n",
    "test_datagen = ImageDataGenerator(rescale=1./255)\n",
    "val_datagen = ImageDataGenerator(rescale=1./255)"
   ]
  },
  {
   "cell_type": "code",
   "execution_count": 8,
   "id": "b8a5ee50-68a4-4592-b041-c05c98472ad4",
   "metadata": {},
   "outputs": [
    {
     "name": "stdout",
     "output_type": "stream",
     "text": [
      "Found 5216 files belonging to 2 classes.\n",
      "<_MapDataset element_spec=(TensorSpec(shape=(None, 224, 224, 3), dtype=tf.float32, name=None), TensorSpec(shape=(None, 2), dtype=tf.float32, name=None))>\n",
      "Found 624 files belonging to 2 classes.\n",
      "Found 16 files belonging to 2 classes.\n",
      "\n",
      "class names are ['NORMAL', 'PNEUMONIA']\n"
     ]
    }
   ],
   "source": [
    "# Split the training data into train and validation sets\n",
    "train_generator = tf.keras.utils.image_dataset_from_directory(train_dir,\n",
    "                                                        label_mode=\"categorical\",\n",
    "                                                        image_size=IMG_SIZE,\n",
    "                                                        seed=random_state_global,\n",
    "                                                        batch_size = batch_size_val,\n",
    "                                                        shuffle=True)\n",
    "\n",
    "train_ds = train_generator.map(lambda x, y: (normalization_layer(x), y))\n",
    "print(train_ds)\n",
    "\n",
    "test_generator = tf.keras.utils.image_dataset_from_directory(test_dir,\n",
    "                                                        label_mode=\"categorical\",\n",
    "                                                        image_size=IMG_SIZE,\n",
    "                                                        seed=random_state_global,\n",
    "                                                        batch_size = batch_size_val,\n",
    "                                                        shuffle=False) # don't shuffle test data for prediction analysis\n",
    "validation_generator = tf.keras.utils.image_dataset_from_directory(val_dir,\n",
    "                                                        label_mode=\"categorical\",\n",
    "                                                        image_size=IMG_SIZE,\n",
    "                                                        seed=random_state_global,\n",
    "                                                        batch_size = batch_size_val,\n",
    "                                                        shuffle=False) # don't shuffle valid data for prediction analysis\n",
    "\n",
    "class_names = validation_generator.class_names\n",
    "print(f'\\nclass names are {class_names}')"
   ]
  },
  {
   "cell_type": "code",
   "execution_count": 9,
   "id": "e18d7a48-a49d-4e51-9a55-de6f42031cbf",
   "metadata": {},
   "outputs": [
    {
     "name": "stdout",
     "output_type": "stream",
     "text": [
      "Epoch 4: early stopping\n"
     ]
    }
   ],
   "source": [
    "# my callbacks\n",
    "my_callbacks = [\n",
    "            tf.keras.callbacks.EarlyStopping(monitor='loss', patience=1, min_delta=1e-4,mode=\"min\",restore_best_weights=False,verbose=1)]\n",
    "# Train the model\n",
    "history_1 = model.fit(train_ds,\n",
    "                        epochs=epoch_val,\n",
    "                        validation_data=validation_generator,\n",
    "                        callbacks = my_callbacks,\n",
    "                        verbose=0)"
   ]
  },
  {
   "cell_type": "code",
   "execution_count": null,
   "id": "af8eef1e-f050-4f7e-8b80-041f094c6c19",
   "metadata": {},
   "outputs": [
    {
     "name": "stdout",
     "output_type": "stream",
     "text": [
      "\u001b[1m 4/20\u001b[0m \u001b[32m━━━━\u001b[0m\u001b[37m━━━━━━━━━━━━━━━━\u001b[0m \u001b[1m3:22\u001b[0m 13s/step - accuracy: 0.4883 - loss: 64.1350"
     ]
    }
   ],
   "source": [
    "# Evaluate the model on the test set\n",
    "loss, accuracy = model.evaluate(test_generator)\n",
    "print(f\"Test loss: {loss}\")\n",
    "print(f\"Test accuracy: {accuracy}\")"
   ]
  },
  {
   "cell_type": "code",
   "execution_count": null,
   "id": "0b361eae-045f-495a-bd78-9d72855a26ed",
   "metadata": {},
   "outputs": [],
   "source": []
  }
 ],
 "metadata": {
  "kernelspec": {
   "display_name": "Python 3 (ipykernel)",
   "language": "python",
   "name": "python3"
  },
  "language_info": {
   "codemirror_mode": {
    "name": "ipython",
    "version": 3
   },
   "file_extension": ".py",
   "mimetype": "text/x-python",
   "name": "python",
   "nbconvert_exporter": "python",
   "pygments_lexer": "ipython3",
   "version": "3.11.7"
  }
 },
 "nbformat": 4,
 "nbformat_minor": 5
}
